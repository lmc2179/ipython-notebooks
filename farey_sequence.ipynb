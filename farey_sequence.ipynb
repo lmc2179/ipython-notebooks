{
 "metadata": {
  "name": "",
  "signature": "sha256:66596be7f8a95320c668116075d4ab1fb23f154bfc6abc2cfc56dd977f506d49"
 },
 "nbformat": 3,
 "nbformat_minor": 0,
 "worksheets": [
  {
   "cells": [
    {
     "cell_type": "markdown",
     "metadata": {},
     "source": [
      "This iPython notebook will explore the Farey sequence(http://en.wikipedia.org/wiki/Farey_sequence). The Farey sequence of order n is denoted $$F_n$$ and is an increasing list of all the irreducible fractions between zero and one whose denominators are less than or equal to n."
     ]
    },
    {
     "cell_type": "markdown",
     "metadata": {},
     "source": [
      "We can define the following class, which will allow us to calculate the Farey sequence:"
     ]
    },
    {
     "cell_type": "code",
     "collapsed": false,
     "input": [
      "from fractions import Fraction\n",
      "\n",
      "class FareySequence(object):\n",
      "    cache = {1:[Fraction(0,1), Fraction(1,1)]}\n",
      "    \n",
      "    def __call__(self, index):\n",
      "        \"Used to make calls look more like the usual mathematical representation: F(n)\"\n",
      "        return self.get_sequence(index)\n",
      "    \n",
      "    def mediant(self, a,b):\n",
      "        return Fraction(a.numerator+b.numerator, a.denominator+b.denominator)\n",
      "    \n",
      "    def get_next(self, sequence, index):\n",
      "        \"Takes a Farey sequence F(i) and returns the next sequence F(i+1)\"\n",
      "        new_sequence = []\n",
      "        for i, element in enumerate(sequence[:-1]):\n",
      "            new_sequence.append(sequence[i])\n",
      "            mediant = self.mediant(sequence[i], sequence[i+1])\n",
      "            if mediant.denominator <= index:\n",
      "                new_sequence.append(mediant)\n",
      "        new_sequence.append(sequence[-1])\n",
      "        return new_sequence\n",
      "    \n",
      "    def get_sequence(self, index):\n",
      "        \"Gets the Farey sequence for the given integer index.\"\n",
      "        if index not in self.cache:\n",
      "            self.cache[index] = self.get_next(self.get_sequence(index-1), index)\n",
      "        return self.cache[index]"
     ],
     "language": "python",
     "metadata": {},
     "outputs": [],
     "prompt_number": 11
    },
    {
     "cell_type": "markdown",
     "metadata": {},
     "source": [
      "We instantiate the sequence singleton, and calculate the fourth order sequence:"
     ]
    },
    {
     "cell_type": "code",
     "collapsed": false,
     "input": [
      "F = FareySequence()"
     ],
     "language": "python",
     "metadata": {},
     "outputs": [],
     "prompt_number": 12
    },
    {
     "cell_type": "code",
     "collapsed": false,
     "input": [
      "F(4)"
     ],
     "language": "python",
     "metadata": {},
     "outputs": [
      {
       "metadata": {},
       "output_type": "pyout",
       "prompt_number": 13,
       "text": [
        "[Fraction(0, 1),\n",
        " Fraction(1, 4),\n",
        " Fraction(1, 3),\n",
        " Fraction(1, 2),\n",
        " Fraction(2, 3),\n",
        " Fraction(3, 4),\n",
        " Fraction(1, 1)]"
       ]
      }
     ],
     "prompt_number": 13
    },
    {
     "cell_type": "markdown",
     "metadata": {},
     "source": [
      "There are some rather striking visualizations of the construction of the Farey sequence using circles."
     ]
    },
    {
     "cell_type": "code",
     "collapsed": false,
     "input": [
      "def get_circle_centers_and_radii(sequence):\n",
      "    neighbor_pairs = zip(sequence[:-1],sequence[1:])\n",
      "    centers_and_radii = [((n[1]-n[0])/2.0 + n[0],(n[1]-n[0])/2.0) for n in neighbor_pairs]\n",
      "    return centers_and_radii"
     ],
     "language": "python",
     "metadata": {},
     "outputs": [],
     "prompt_number": 14
    },
    {
     "cell_type": "code",
     "collapsed": false,
     "input": [
      "%matplotlib inline\n",
      "import matplotlib.pyplot as plt\n",
      "\n",
      "# Construct a number of pyplot circle objects\n",
      "centers_and_radii = reduce(lambda l1, l2: l1+l2, [get_circle_centers_and_radii(F(i)) for i in range(1,10)])\n",
      "circles = [plt.Circle((x,0),r,facecolor='none', edgecolor='b') for x,r in centers_and_radii]\n",
      "\n",
      "fig = plt.gcf()\n",
      "[fig.gca().add_artist(c) for c in circles]\n",
      "plt.show()\n"
     ],
     "language": "python",
     "metadata": {},
     "outputs": [
      {
       "metadata": {},
       "output_type": "display_data",
       "png": "[encoded data removed]",
       "text": [
        "<matplotlib.figure.Figure at 0xb07a2ac>"
       ]
      }
     ],
     "prompt_number": 15
    },
    {
     "cell_type": "code",
     "collapsed": false,
     "input": [],
     "language": "python",
     "metadata": {},
     "outputs": [],
     "prompt_number": 15
    }
   ],
   "metadata": {}
  }
 ]
}