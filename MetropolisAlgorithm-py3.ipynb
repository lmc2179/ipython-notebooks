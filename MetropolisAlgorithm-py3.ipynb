{
 "metadata": {
  "name": ""
 },
 "nbformat": 3,
 "nbformat_minor": 0,
 "worksheets": [
  {
   "cells": [
    {
     "cell_type": "markdown",
     "metadata": {},
     "source": [
      "#Metropolis algorithm\n",
      "\n",
      "Contents:\n",
      "1. Abstract classes: Jumping distribution, Target Distribution\n",
      "2. Example implementations - Gaussian jumping distribution, exponential target distribution\n",
      "3. Graphing utilities for normalized histograms and distributions\n",
      "4. Metropolis sampler\n",
      "5. Test"
     ]
    },
    {
     "cell_type": "markdown",
     "metadata": {},
     "source": [
      "These are two separate classes to illustrate that while both of the objects used by the algorithm are probability distributions, they are used for different purposes. The jumping distribution is never evaluated, only sampled from. The target distribution is the distribution we want to simulate sampling from - we only need to be able to evaluate its pdf at particular points."
     ]
    },
    {
     "cell_type": "code",
     "collapsed": false,
     "input": [
      "class JumpingDistribution(object):\n",
      "    def sample(self):\n",
      "        raise NotImplementedError\n",
      "\n",
      "class TargetDistribution(object):\n",
      "    def evaluate(self, x):\n",
      "        raise NotImplementedError"
     ],
     "language": "python",
     "metadata": {},
     "outputs": [],
     "prompt_number": 7
    },
    {
     "cell_type": "code",
     "collapsed": false,
     "input": [
      "import random\n",
      "import math\n",
      "import scipy.stats\n",
      "\n",
      "class Gaussian(JumpingDistribution, TargetDistribution):\n",
      "    def __init__(self, mu, sigma):\n",
      "        self.mu = mu\n",
      "        self.sigma = sigma\n",
      "        \n",
      "    def sample(self):\n",
      "        return random.gauss(self.mu, self.sigma)\n",
      "    \n",
      "    def evaluate(self, x):\n",
      "        return scipy.stats.norm(self.mu, self.sigma).pdf(x)\n",
      "\n",
      "class Exponential(TargetDistribution):\n",
      "    def __init__(self, shape):\n",
      "        self.shape = shape\n",
      "        \n",
      "    def evaluate(self, x):\n",
      "        return self.shape * math.exp(-x*self.shape)"
     ],
     "language": "python",
     "metadata": {},
     "outputs": [],
     "prompt_number": 30
    },
    {
     "cell_type": "code",
     "collapsed": false,
     "input": [
      "%matplotlib inline\n",
      "import matplotlib.pyplot as plt\n",
      "import numpy as np\n",
      "\n",
      "def normed_histogram(data):\n",
      "    plt.hist(data,bins=100,normed=True)\n",
      "    \n",
      "def plot_distribution(dist, begin, end, resolution = 0.001):\n",
      "    x = np.arange(begin, end, resolution)\n",
      "    y = [dist.evaluate(x_i) for x_i in x]\n",
      "    plt.plot(x,y)\n",
      "\n",
      "def compare_samples_to_dist(data, dist, begin, end):    \n",
      "    normed_histogram(data)\n",
      "    plot_distribution(dist, begin, end)\n",
      "    plt.show()\n",
      "    \n",
      "data = [random.gauss(0,1) for i in range(0,100000)]\n",
      "compare_samples_to_dist(data, Gaussian(0,1), -5, 5)"
     ],
     "language": "python",
     "metadata": {},
     "outputs": [
      {
       "output_type": "stream",
       "stream": "stdout",
       "text": [
        "[-5.    -4.999 -4.998 -4.997 -4.996 -4.995 -4.994 -4.993 -4.992 -4.991] [1.4867195147342979e-06, 1.4941709802283082e-06, 1.5016582909450902e-06, 1.5091816114934028e-06, 1.5167411071984765e-06, 1.5243369441049397e-06, 1.5319692889797616e-06, 1.5396383093152036e-06, 1.5473441733317631e-06, 1.5550870499811601e-06]\n"
       ]
      },
      {
       "metadata": {},
       "output_type": "display_data",
       "png": "[encoded data removed]",
       "text": [
        "<matplotlib.figure.Figure at 0x7f0a4dfac6d8>"
       ]
      }
     ],
     "prompt_number": 34
    },
    {
     "cell_type": "code",
     "collapsed": false,
     "input": [
      "class MetropolisSampler(object):\n",
      "    pass"
     ],
     "language": "python",
     "metadata": {},
     "outputs": [],
     "prompt_number": 1
    }
   ],
   "metadata": {}
  }
 ]
}