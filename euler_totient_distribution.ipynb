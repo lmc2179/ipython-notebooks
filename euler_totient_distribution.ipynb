{
 "metadata": {
  "name": "",
  "signature": "sha256:c00905085adc4be54299955ebe4ba8bda3ed90ac6d1da7068854f3a731f639e7"
 },
 "nbformat": 3,
 "nbformat_minor": 0,
 "worksheets": [
  {
   "cells": [
    {
     "cell_type": "heading",
     "level": 1,
     "metadata": {},
     "source": [
      "How prime is a number? A look at Euler's Totient function"
     ]
    },
    {
     "cell_type": "markdown",
     "metadata": {},
     "source": []
    }
   ],
   "metadata": {}
  }
 ]
}