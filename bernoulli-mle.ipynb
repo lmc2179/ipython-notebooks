{
 "metadata": {
  "name": "",
  "signature": "sha256:720f37b2a4728db40db34db1e8f70456fabf2730b1a02d86531b00e39566676b"
 },
 "nbformat": 3,
 "nbformat_minor": 0,
 "worksheets": [
  {
   "cells": [
    {
     "cell_type": "markdown",
     "metadata": {},
     "source": [
      "#The Intuition behind Maximum Likelihood Estimation"
     ]
    },
    {
     "cell_type": "markdown",
     "metadata": {},
     "source": [
      "This tutorial is meant as a brief explanation of [Maximum Likelihood estimation](http://en.wikipedia.org/wiki/Maximum_likelihood_estimation) for those who have never seen it before. It covers the basic idea behind MLE, using parameter estimation for the Bernoulli distribution as an example. This is oriented towards readers who have an intuitive idea of probability distributions and have seen basic calculus before, but doesn't assume anything more than that. My hope is that a reader who is not familiar with MLE will be able to understand how the method formalizes some very basic intuition about what data represents, and is geared towards someone who doesn't necessarily have a lot of experience with mathematical formalism besides high school/undergraduate statistics and calculus."
     ]
    },
    {
     "cell_type": "markdown",
     "metadata": {},
     "source": [
      "##The Problem: Inferring Parameters"
     ]
    },
    {
     "cell_type": "markdown",
     "metadata": {},
     "source": [
      "To start off, we should pin down the problem that we're looking to solve.\n",
      "\n",
      "The problem that maximum likelihood explanation solves is that of *parameter estimation*. Parameter estimation is the very general problem of finding the optimal values of a model's parameters. In other words, we observe some data, and we have a model which we believe represents this data, but we don't know the specific values of the model's parameters. In some cases, the model that we should use isn't obvious - however, for the examples we're going to work on, we'll assume that we have a particular model in mind.\n",
      "\n",
      "In order to get a concrete example of some data which follows a parametric model, let's generate some data:"
     ]
    },
    {
     "cell_type": "code",
     "collapsed": false,
     "input": [
      "import random\n",
      "%matplotlib inline\n",
      "from matplotlib import pyplot as plt\n",
      "data = [random.gauss(0,1) for i in range(1000)]\n",
      "plt.hist(data, bins=10)\n",
      "plt.show()"
     ],
     "language": "python",
     "metadata": {},
     "outputs": [
      {
       "metadata": {},
       "output_type": "display_data",
       "png": "[encoded data removed]",
       "text": [
        "<matplotlib.figure.Figure at 0xa90150c>"
       ]
      }
     ],
     "prompt_number": 20
    },
    {
     "cell_type": "markdown",
     "metadata": {},
     "source": [
      "In this case, the data is drawn from a Gaussian (Normal) distribution, with mean = 0 and standard deviation = 1. The mean and standard deviation are the parameters.\n",
      "\n",
      "Now, in this example, we saw how the data was generated - we know the model (a Gaussian distribution) and the parameters of that model (the mean and standard deviation). However, in lots of cases, we have a model in mind but don't know the parameters - the method of maximum likelihood gives us one way of inferring the parameter values from data."
     ]
    },
    {
     "cell_type": "markdown",
     "metadata": {},
     "source": [
      "##Method of Maximum Likelihood: Assumptions"
     ]
    },
    {
     "cell_type": "markdown",
     "metadata": {},
     "source": [
      "So, we know that we have a model, some data, and we want to make an inference about the parameter's values from the data. We could have all sorts of interesting models - however, we'll limit ourselves to the specific case of finding the parameters of a probability distribution, a problem known as [density estimation](http://en.wikipedia.org/wiki/Density_estimation). Let's pick some symbols to express the things we're talking about:"
     ]
    },
    {
     "cell_type": "markdown",
     "metadata": {},
     "source": [
      "Parameters:  $\\theta$"
     ]
    },
    {
     "cell_type": "markdown",
     "metadata": {},
     "source": [
      "Data: $D = [d_1...d_n]; d_i \\in \\mathbb{R}$"
     ]
    },
    {
     "cell_type": "markdown",
     "metadata": {},
     "source": [
      "Probability of observing a single datapoint, given the model parameters: $P(d|\\theta)$"
     ]
    },
    {
     "cell_type": "markdown",
     "metadata": {},
     "source": [
      "For our problem, the probability distribution P will have a specific form - in the example above, it was the Gaussian. Now that we've got that out of the way, we want to be able to form and evaluate hypotheses about the parameter values. \n",
      "\n",
      "What makes a good hypothesis in this case? If we have two possible values of the parameters, how can we figure out which one is better using the data? Broadly speaking, we're going to make an assumption here - if we have two hypotheses, we'll say that we prefer the one that best explains the data.\n",
      "\n",
      "Let's see if we can write that idea down more formally. Let's say that we have two possible values of the parameters which we'll call $\\theta_1,  \\theta_2$."
     ]
    },
    {
     "cell_type": "markdown",
     "metadata": {},
     "source": [
      "If we only have one data point, we can compare the likelihood that the datapoint was produced for each possible value of the parameters:"
     ]
    },
    {
     "cell_type": "markdown",
     "metadata": {},
     "source": [
      "$\\theta_{best} = arg max_{\\theta_1, \\theta_2} [P(d|\\theta)]$"
     ]
    },
    {
     "cell_type": "markdown",
     "metadata": {},
     "source": [
      "This is the formal way of saying the above - that is, that we prefer the the hypothesis which makes the single observed data point most likely. However, at first glance this doesn't seem all that useful - in real life, we always have a number of data points, and we have to choose a hypothesis from among many competing hypotheses. Think about the Gaussian-distributed data in the first example - if we didn't know  the mean, the space of possible hypotheses is tremendous, since the mean's value can be any real number. How can we systematically analyze the space of all possible hypotheses in such a complicated case? The answer leads us to our next section, the introduction of a formalism called the Likelihood function."
     ]
    },
    {
     "cell_type": "markdown",
     "metadata": {},
     "source": [
      "##Evaluating a hypothesis: The Likelihood Function"
     ]
    },
    {
     "cell_type": "markdown",
     "metadata": {},
     "source": [
      "$L(\\theta, D) = \\Pi_{d \\in D} P(d|\\theta)$"
     ]
    },
    {
     "cell_type": "markdown",
     "metadata": {},
     "source": [
      "$\\theta_{mle} = arg max[L(\\theta, D)]$"
     ]
    },
    {
     "cell_type": "markdown",
     "metadata": {},
     "source": [
      "##Example: The Bernoulli Distribution"
     ]
    },
    {
     "cell_type": "markdown",
     "metadata": {},
     "source": [
      "$P(x|\\mu) = \\mu^{x} (1-\\mu)^{1-x} $"
     ]
    },
    {
     "cell_type": "markdown",
     "metadata": {},
     "source": [
      "$L(\\mu, D) = \\Pi_{d \\in D} \\mu^{d} (1-\\mu)^{1-d}$"
     ]
    },
    {
     "cell_type": "markdown",
     "metadata": {},
     "source": [
      "$ln [L(\\mu, D)] = \\sum_{d \\in D} d ln (\\mu) + (1-d) ln (1-\\mu)$"
     ]
    },
    {
     "cell_type": "markdown",
     "metadata": {},
     "source": [
      "$\\frac{dL}{d\\mu} = \\sum [ \\frac{d}{\\mu} + \\frac{1 - d}{\\mu - 1} ]$"
     ]
    },
    {
     "cell_type": "markdown",
     "metadata": {},
     "source": [
      "$\\sum \\frac{d}{\\mu_{ml}} + \\frac{1 - d}{\\mu_{ml}-1} = 0$"
     ]
    },
    {
     "cell_type": "markdown",
     "metadata": {},
     "source": [
      "$\\implies \\sum \\frac{d}{\\mu_{ml}} = \\sum \\frac{d-1}{\\mu_{ml}-1} $"
     ]
    },
    {
     "cell_type": "markdown",
     "metadata": {},
     "source": [
      "$\\implies \\mu_{ml} = \\frac{\\sum d}{n}$"
     ]
    },
    {
     "cell_type": "markdown",
     "metadata": {},
     "source": [
      "##Another goddamned coin flipping example"
     ]
    },
    {
     "cell_type": "markdown",
     "metadata": {},
     "source": [
      "##The End: References and Last remarks"
     ]
    },
    {
     "cell_type": "code",
     "collapsed": false,
     "input": [],
     "language": "python",
     "metadata": {},
     "outputs": []
    }
   ],
   "metadata": {}
  }
 ]
}