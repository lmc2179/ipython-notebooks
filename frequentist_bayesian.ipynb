{
 "metadata": {
  "name": "",
  "signature": "sha256:be786e7387e4c001451870a87aa3b9a6b6b52b70184fad1d9f043ddd1a63e6c0"
 },
 "nbformat": 3,
 "nbformat_minor": 0,
 "worksheets": [
  {
   "cells": [
    {
     "cell_type": "heading",
     "level": 1,
     "metadata": {},
     "source": [
      "Density Estimation: Frequentist and Bayesian Perspectives"
     ]
    },
    {
     "cell_type": "markdown",
     "metadata": {},
     "source": [
      "This IPython notebook briefly explains some of the differences between frequentist and bayesian viewpoints, and uses parameter estimation for the Gaussian distribution as an example of the difference between the methods in practice. I originally wrote a version of this for myself in order to better understand the difference between the two schools of thought; while I had an intuitive idea of how each worked, it took me some time to really internalize how the two methods were used in practice. This is intended to do just that; summarize the key ideas of each side and show an example of how a frequentist and a bayesian might solve a problem respectively."
     ]
    },
    {
     "cell_type": "heading",
     "level": 2,
     "metadata": {},
     "source": [
      "What are the frequentist and bayesian points of view?"
     ]
    },
    {
     "cell_type": "heading",
     "level": 2,
     "metadata": {},
     "source": [
      "Frequentist and Bayesian Parameter estimation methods: Overview"
     ]
    },
    {
     "cell_type": "markdown",
     "metadata": {},
     "source": [
      "**The frequentist parameter estimation procedure** that we will use is called a [Maximum Likelihood Estimate](http://en.wikipedia.org/wiki/Maximum_likelihood), commonly abbreviated MLE. The technique is very commonly used for parameter estimation, and dates back to at least Lagrange [1].\n",
      "\n",
      "**The Bayesian procedure**"
     ]
    },
    {
     "cell_type": "heading",
     "level": 2,
     "metadata": {},
     "source": [
      "Example: Gaussian parameter fitting"
     ]
    },
    {
     "cell_type": "heading",
     "level": 3,
     "metadata": {},
     "source": [
      "Maximum Likelihood Estimation"
     ]
    },
    {
     "cell_type": "markdown",
     "metadata": {},
     "source": [
      "We first define the Gaussian distribution, for a given mean \\mu and a variance \\sigma:\n",
      "$$N_{\\mu, \\sigma^2} = \\frac{1}{\\sigma \\sqrt{2 \\pi}}$$\n",
      "From this, we construct the likelihood function for a dataset of n observations: \n",
      "$$L_{\\mu, \\sigma^2} = \\Pi_x N_{\\mu, \\sigma^2}(x_i)$$\n",
      "For analytical convenience, we take the log of the likelihood:\n",
      "$$ln L_{\\mu, \\sigma^2} = -\\frac{n}{2} ln(2 \\pi) - \\frac{n}{2}ln(\\sigma^2) - \\frac{1}{2 \\sigma^2}\\sum_{i=1}^{n}(x_i - \\mu)$$"
     ]
    },
    {
     "cell_type": "heading",
     "level": 3,
     "metadata": {},
     "source": [
      "Bayesian Parameter Estimation"
     ]
    },
    {
     "cell_type": "code",
     "collapsed": false,
     "input": [
      "import pymc"
     ],
     "language": "python",
     "metadata": {},
     "outputs": [
      {
       "ename": "ImportError",
       "evalue": "No module named pymc",
       "output_type": "pyerr",
       "traceback": [
        "\u001b[1;31m---------------------------------------------------------------------------\u001b[0m\n\u001b[1;31mImportError\u001b[0m                               Traceback (most recent call last)",
        "\u001b[1;32m<ipython-input-1-5f262cfcb99b>\u001b[0m in \u001b[0;36m<module>\u001b[1;34m()\u001b[0m\n\u001b[1;32m----> 1\u001b[1;33m \u001b[1;32mimport\u001b[0m \u001b[0mpymc\u001b[0m\u001b[1;33m\u001b[0m\u001b[0m\n\u001b[0m",
        "\u001b[1;31mImportError\u001b[0m: No module named pymc"
       ]
      }
     ],
     "prompt_number": 1
    },
    {
     "cell_type": "heading",
     "level": 2,
     "metadata": {},
     "source": [
      "The End"
     ]
    },
    {
     "cell_type": "markdown",
     "metadata": {},
     "source": [
      "I hope you enjoyed that as much as I enjoyed writing it. If you have questions, comments, or suggestions feel free to send me an email at louiscialdella [at sign] gmail.com."
     ]
    },
    {
     "cell_type": "markdown",
     "metadata": {},
     "source": [
      "[1] The Epic Story of Maximum Likelihood - http://arxiv.org/pdf/0804.2996.pdf\n"
     ]
    },
    {
     "cell_type": "code",
     "collapsed": false,
     "input": [],
     "language": "python",
     "metadata": {},
     "outputs": []
    }
   ],
   "metadata": {}
  }
 ]
}